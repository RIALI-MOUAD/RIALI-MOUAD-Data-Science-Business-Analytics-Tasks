{
 "cells": [
  {
   "cell_type": "markdown",
   "id": "finite-recruitment",
   "metadata": {},
   "source": [
    "## import libraries :"
   ]
  },
  {
   "cell_type": "code",
   "execution_count": 13,
   "id": "worthy-award",
   "metadata": {},
   "outputs": [],
   "source": [
    "import pandas as pd\n",
    "import numpy as np\n",
    "import matplotlib.pyplot as plt\n",
    "import seaborn as sns \n",
    "from sklearn.linear_model import LinearRegression\n",
    "from sklearn.model_selection import train_test_split \n",
    "from sklearn.metrics import mean_squared_error, mean_absolute_error, r2_score\n",
    "\n",
    "%matplotlib inline"
   ]
  },
  {
   "cell_type": "markdown",
   "id": "growing-adolescent",
   "metadata": {},
   "source": [
    "## import data"
   ]
  },
  {
   "cell_type": "code",
   "execution_count": 14,
   "id": "damaged-midnight",
   "metadata": {},
   "outputs": [
    {
     "data": {
      "text/html": [
       "<div>\n",
       "<style scoped>\n",
       "    .dataframe tbody tr th:only-of-type {\n",
       "        vertical-align: middle;\n",
       "    }\n",
       "\n",
       "    .dataframe tbody tr th {\n",
       "        vertical-align: top;\n",
       "    }\n",
       "\n",
       "    .dataframe thead th {\n",
       "        text-align: right;\n",
       "    }\n",
       "</style>\n",
       "<table border=\"1\" class=\"dataframe\">\n",
       "  <thead>\n",
       "    <tr style=\"text-align: right;\">\n",
       "      <th></th>\n",
       "      <th>Hours</th>\n",
       "      <th>Scores</th>\n",
       "    </tr>\n",
       "  </thead>\n",
       "  <tbody>\n",
       "    <tr>\n",
       "      <th>0</th>\n",
       "      <td>2.5</td>\n",
       "      <td>21</td>\n",
       "    </tr>\n",
       "    <tr>\n",
       "      <th>1</th>\n",
       "      <td>5.1</td>\n",
       "      <td>47</td>\n",
       "    </tr>\n",
       "    <tr>\n",
       "      <th>2</th>\n",
       "      <td>3.2</td>\n",
       "      <td>27</td>\n",
       "    </tr>\n",
       "    <tr>\n",
       "      <th>3</th>\n",
       "      <td>8.5</td>\n",
       "      <td>75</td>\n",
       "    </tr>\n",
       "    <tr>\n",
       "      <th>4</th>\n",
       "      <td>3.5</td>\n",
       "      <td>30</td>\n",
       "    </tr>\n",
       "  </tbody>\n",
       "</table>\n",
       "</div>"
      ],
      "text/plain": [
       "   Hours  Scores\n",
       "0    2.5      21\n",
       "1    5.1      47\n",
       "2    3.2      27\n",
       "3    8.5      75\n",
       "4    3.5      30"
      ]
     },
     "execution_count": 14,
     "metadata": {},
     "output_type": "execute_result"
    }
   ],
   "source": [
    "data = pd.read_csv(\"data.csv\")\n",
    "data.head(5)"
   ]
  },
  {
   "cell_type": "markdown",
   "id": "gorgeous-theory",
   "metadata": {},
   "source": [
    "#### Data info :"
   ]
  },
  {
   "cell_type": "code",
   "execution_count": 15,
   "id": "described-result",
   "metadata": {},
   "outputs": [
    {
     "name": "stdout",
     "output_type": "stream",
     "text": [
      "<class 'pandas.core.frame.DataFrame'>\n",
      "RangeIndex: 25 entries, 0 to 24\n",
      "Data columns (total 2 columns):\n",
      " #   Column  Non-Null Count  Dtype  \n",
      "---  ------  --------------  -----  \n",
      " 0   Hours   25 non-null     float64\n",
      " 1   Scores  25 non-null     int64  \n",
      "dtypes: float64(1), int64(1)\n",
      "memory usage: 528.0 bytes\n"
     ]
    }
   ],
   "source": [
    "data.info()"
   ]
  },
  {
   "cell_type": "markdown",
   "id": "cosmetic-writer",
   "metadata": {},
   "source": [
    "\n",
    "Before starting on any task, it is often useful to understand the data by visualizing it. For this dataset, we can use a scatter plot using Seaborn to visualize the data, since it has only two variables: the Scores and Hours."
   ]
  },
  {
   "cell_type": "code",
   "execution_count": 17,
   "id": "portuguese-synthesis",
   "metadata": {},
   "outputs": [
    {
     "data": {
      "image/png": "[encoded data removed]",
      "text/plain": [
       "<Figure size 432x288 with 1 Axes>"
      ]
     },
     "metadata": {
      "needs_background": "light"
     },
     "output_type": "display_data"
    }
   ],
   "source": [
    "rep = sns.scatterplot(x = \"Hours\", y = \"Scores\", data = data, color = \"red\")\n",
    "rep.set_title(\"Hours and Scores\");"
   ]
  },
  {
   "cell_type": "markdown",
   "id": "champion-breathing",
   "metadata": {},
   "source": [
    "## Create a regression model and fit it with our data¶"
   ]
  },
  {
   "cell_type": "markdown",
   "id": "oriental-copper",
   "metadata": {},
   "source": [
    "Preparing the data by creating the x and y axis :"
   ]
  },
  {
   "cell_type": "code",
   "execution_count": 18,
   "id": "changing-czech",
   "metadata": {},
   "outputs": [],
   "source": [
    "X = data.Hours.values.reshape(-1,1)\n",
    "Y = data.Scores.values.reshape(-1,1)"
   ]
  },
  {
   "cell_type": "markdown",
   "id": "dominican-consistency",
   "metadata": {},
   "source": [
    "Now that we have our x and y axis, the next step is to split this data into training and testing subsets. By using Scikit-Learn's built-in train_test_split() method:"
   ]
  },
  {
   "cell_type": "code",
   "execution_count": 20,
   "id": "traditional-recruitment",
   "metadata": {},
   "outputs": [],
   "source": [
    "X_train, X_test, Y_train, Y_test = train_test_split(X, Y, test_size=0.15,random_state=0)"
   ]
  },
  {
   "cell_type": "markdown",
   "id": "massive-reunion",
   "metadata": {},
   "source": [
    "Et voila, Let the model get trained :"
   ]
  },
  {
   "cell_type": "code",
   "execution_count": 22,
   "id": "physical-roads",
   "metadata": {},
   "outputs": [
    {
     "name": "stdout",
     "output_type": "stream",
     "text": [
      "Training the model...\n",
      "Training complete !\n",
      "Y =  9.918306678342628 *X+( 2.049688128927201 )\n"
     ]
    }
   ],
   "source": [
    "reg = LinearRegression()  \n",
    "print(\"Training the model...\")\n",
    "reg.fit(X_train, Y_train) \n",
    "print(\"Training complete !\")    \n",
    "print(\"Y = \",reg.coef_[0][0],\"*X+(\",reg.intercept_[0],\")\")"
   ]
  },
  {
   "cell_type": "code",
   "execution_count": 23,
   "id": "passive-jimmy",
   "metadata": {},
   "outputs": [
    {
     "name": "stdout",
     "output_type": "stream",
     "text": [
      "Scores = 9.92*Hours + 2.05\n"
     ]
    },
    {
     "data": {
      "image/png": "[encoded data removed]",
      "text/plain": [
       "<Figure size 432x288 with 1 Axes>"
      ]
     },
     "metadata": {
      "needs_background": "light"
     },
     "output_type": "display_data"
    }
   ],
   "source": [
    "# Plotting the original scatter plot \n",
    "sns.scatterplot(x = \"Hours\", y = \"Scores\", data = data, color = \"blue\")\n",
    "\n",
    "# The regression line : new Y\n",
    "Y_value = reg.coef_*X + reg.intercept_\n",
    "\n",
    "print(\"Scores = %.2f*Hours +\" % reg.coef_, \"%.2f\" %reg.intercept_)\n",
    "# Draw the line of linear regression\n",
    "plt.plot(X, Y_value, 'r');\n",
    "\n",
    "plt.title(\"Linear regression Fit\");"
   ]
  },
  {
   "cell_type": "markdown",
   "id": "forty-theology",
   "metadata": {},
   "source": [
    "## Make predictions using the testing set :"
   ]
  },
  {
   "cell_type": "code",
   "execution_count": 24,
   "id": "significant-scale",
   "metadata": {},
   "outputs": [],
   "source": [
    "Y_pred=reg.predict(X_test)"
   ]
  },
  {
   "cell_type": "code",
   "execution_count": 25,
   "id": "expired-repository",
   "metadata": {},
   "outputs": [
    {
     "data": {
      "image/png": "[encoded data removed]",
      "text/plain": [
       "<Figure size 432x288 with 1 Axes>"
      ]
     },
     "metadata": {
      "needs_background": "light"
     },
     "output_type": "display_data"
    }
   ],
   "source": [
    "plt.scatter(X_test, Y_test,  color='blue')\n",
    "plt.plot(X_test, Y_pred, color='red') \n",
    "plt.xlabel('Hours')  \n",
    "plt.ylabel('Score') \n",
    "rep.set_title(\"Scores vs Hours\");"
   ]
  },
  {
   "cell_type": "markdown",
   "id": "organic-coverage",
   "metadata": {},
   "source": [
    "## Make a prediction :"
   ]
  },
  {
   "cell_type": "code",
   "execution_count": 27,
   "id": "solid-adoption",
   "metadata": {},
   "outputs": [
    {
     "name": "stdout",
     "output_type": "stream",
     "text": [
      "No of study Hours = 9.25\n",
      "Predicted Score = 93.79\n"
     ]
    }
   ],
   "source": [
    "Hours = np.array([[9.25]])\n",
    "own_pred = reg.predict(Hours)\n",
    "print(\"No of study Hours = %.2f\" % Hours[0][0])\n",
    "print(\"Predicted Score = %.2f\" % own_pred[0])"
   ]
  },
  {
   "cell_type": "markdown",
   "id": "systematic-touch",
   "metadata": {},
   "source": [
    "## Evaluate the model :"
   ]
  },
  {
   "cell_type": "code",
   "execution_count": 28,
   "id": "drawn-dragon",
   "metadata": {},
   "outputs": [
    {
     "name": "stdout",
     "output_type": "stream",
     "text": [
      "Mean squared error: 26.75\n",
      "Mean Absolute Error: 4.87\n",
      "Coefficient of determination: 0.93\n"
     ]
    }
   ],
   "source": [
    "\n",
    "# The mean squared error\n",
    "print('Mean squared error: %.2f' % mean_squared_error(Y_test, Y_pred))\n",
    "\n",
    "# The mean absolute Error\n",
    "print('Mean Absolute Error: %.2f' % mean_absolute_error(Y_test, Y_pred)) \n",
    "\n",
    "# The coefficient of determination: 1 is perfect prediction\n",
    "print('Coefficient of determination: %.2f' % r2_score(Y_test, Y_pred))"
   ]
  },
  {
   "cell_type": "markdown",
   "id": "floating-princeton",
   "metadata": {},
   "source": [
    "# Thank you for watching !!!"
   ]
  },
  {
   "cell_type": "code",
   "execution_count": null,
   "id": "under-ancient",
   "metadata": {},
   "outputs": [],
   "source": []
  },
  {
   "cell_type": "code",
   "execution_count": null,
   "id": "attended-bennett",
   "metadata": {},
   "outputs": [],
   "source": []
  },
  {
   "cell_type": "code",
   "execution_count": null,
   "id": "devoted-monday",
   "metadata": {},
   "outputs": [],
   "source": []
  }
 ],
 "metadata": {
  "kernelspec": {
   "display_name": "Python 3",
   "language": "python",
   "name": "python3"
  },
  "language_info": {
   "codemirror_mode": {
    "name": "ipython",
    "version": 3
   },
   "file_extension": ".py",
   "mimetype": "text/x-python",
   "name": "python",
   "nbconvert_exporter": "python",
   "pygments_lexer": "ipython3",
   "version": "3.8.5"
  }
 },
 "nbformat": 4,
 "nbformat_minor": 5
}
